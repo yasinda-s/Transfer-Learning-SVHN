{
 "cells": [
  {
   "cell_type": "code",
   "execution_count": null,
   "id": "f9700577",
   "metadata": {},
   "outputs": [],
   "source": [
    "# The following codes and networks are original work by Yasinda Samaranayake in 2023."
   ]
  },
  {
   "cell_type": "code",
   "execution_count": null,
   "id": "bdb008ee",
   "metadata": {
    "id": "bdb008ee"
   },
   "outputs": [],
   "source": [
    "import numpy as np\n",
    "import keras\n",
    "import seaborn as sns\n",
    "from matplotlib import pyplot as plt\n",
    "from scipy.io import loadmat\n",
    "from sklearn.model_selection import train_test_split\n",
    "from sklearn.preprocessing import LabelBinarizer\n",
    "from sklearn.metrics import confusion_matrix\n",
    "from keras.preprocessing.image import ImageDataGenerator\n",
    "%matplotlib inline"
   ]
  },
  {
   "cell_type": "code",
   "execution_count": null,
   "id": "aa9d9df3",
   "metadata": {
    "id": "aa9d9df3"
   },
   "outputs": [],
   "source": [
    "np.random.seed(20)"
   ]
  },
  {
   "cell_type": "code",
   "execution_count": null,
   "id": "aacfbd60",
   "metadata": {
    "id": "aacfbd60"
   },
   "outputs": [],
   "source": [
    "train_raw = loadmat('train_32x32.mat') #73257 training images\n",
    "test_raw = loadmat('test_32x32.mat') #26032 testing images"
   ]
  },
  {
   "cell_type": "code",
   "execution_count": null,
   "id": "8d203e39",
   "metadata": {
    "id": "8d203e39"
   },
   "outputs": [],
   "source": [
    "train_images = np.array(train_raw['X'])\n",
    "test_images = np.array(test_raw['X'])\n",
    "\n",
    "train_labels = train_raw['y']\n",
    "test_labels = test_raw['y']"
   ]
  },
  {
   "cell_type": "code",
   "execution_count": null,
   "id": "968c7eda",
   "metadata": {
    "colab": {
     "base_uri": "https://localhost:8080/"
    },
    "id": "968c7eda",
    "outputId": "29b76079-064e-47d3-c189-3b5319eb911a"
   },
   "outputs": [],
   "source": [
    "print(train_images.shape)\n",
    "print(test_images.shape)"
   ]
  },
  {
   "cell_type": "code",
   "execution_count": null,
   "id": "97be4eb2",
   "metadata": {
    "colab": {
     "base_uri": "https://localhost:8080/"
    },
    "id": "97be4eb2",
    "outputId": "977521f3-362e-4fed-c3e2-31affcdeb07c"
   },
   "outputs": [],
   "source": [
    "train_images = np.moveaxis(train_images, -1, 0)\n",
    "test_images = np.moveaxis(test_images, -1, 0)\n",
    "\n",
    "print(train_images.shape)\n",
    "print(test_images.shape)"
   ]
  },
  {
   "cell_type": "code",
   "execution_count": null,
   "id": "bKYkxj7glOwo",
   "metadata": {
    "id": "bKYkxj7glOwo"
   },
   "outputs": [],
   "source": [
    "new_images = []\n",
    "new_labels = []\n",
    "class_threshold = 50\n",
    "\n",
    "one=0\n",
    "two=0\n",
    "three=0\n",
    "four=0\n",
    "five=0\n",
    "six=0\n",
    "seven=0\n",
    "eight=0\n",
    "nine=0\n",
    "zero=0\n",
    "\n",
    "for i in range(len(train_images)): #0-60000\n",
    "    if train_labels[i][0]==10:\n",
    "        if zero<class_threshold:\n",
    "            new_images.append(train_images[i])\n",
    "            new_labels.append(train_labels[i])\n",
    "            zero+=1\n",
    "    elif train_labels[i][0]==1:\n",
    "        if one<class_threshold:\n",
    "            new_images.append(train_images[i])\n",
    "            new_labels.append(train_labels[i])\n",
    "            one+=1\n",
    "    elif train_labels[i][0]==2:\n",
    "        if two<class_threshold:\n",
    "            new_images.append(train_images[i])\n",
    "            new_labels.append(train_labels[i])\n",
    "            two+=1\n",
    "    elif train_labels[i][0]==3:\n",
    "        if three<class_threshold:\n",
    "            new_images.append(train_images[i])\n",
    "            new_labels.append(train_labels[i])\n",
    "            three+=1\n",
    "    elif train_labels[i][0]==4:\n",
    "        if four<class_threshold:\n",
    "            new_images.append(train_images[i])\n",
    "            new_labels.append(train_labels[i])\n",
    "            four+=1\n",
    "    elif train_labels[i][0]==5:\n",
    "        if five<class_threshold:\n",
    "            new_images.append(train_images[i])\n",
    "            new_labels.append(train_labels[i])\n",
    "            five+=1\n",
    "    elif train_labels[i][0]==6:\n",
    "        if six<class_threshold:\n",
    "            new_images.append(train_images[i])\n",
    "            new_labels.append(train_labels[i])\n",
    "            six+=1\n",
    "    elif train_labels[i][0]==7:\n",
    "        if seven<class_threshold:\n",
    "            new_images.append(train_images[i])\n",
    "            new_labels.append(train_labels[i])\n",
    "            seven+=1\n",
    "    elif train_labels[i][0]==8:\n",
    "        if eight<class_threshold:\n",
    "            new_images.append(train_images[i])\n",
    "            new_labels.append(train_labels[i])\n",
    "            eight+=1\n",
    "    elif train_labels[i][0]==9:\n",
    "        if nine<class_threshold:\n",
    "            new_images.append(train_images[i])\n",
    "            new_labels.append(train_labels[i])\n",
    "            nine+=1"
   ]
  },
  {
   "cell_type": "code",
   "execution_count": null,
   "id": "EgdpVrPwmdxt",
   "metadata": {
    "colab": {
     "base_uri": "https://localhost:8080/"
    },
    "id": "EgdpVrPwmdxt",
    "outputId": "bd0d74db-87c0-4224-d38d-9612cbc28689"
   },
   "outputs": [],
   "source": [
    "train_images = np.array(new_images)\n",
    "train_lbl = np.array(new_labels)\n",
    "\n",
    "unique, counts = np.unique(train_lbl, return_counts=True)\n",
    "dict(zip(unique, counts)) #show frequency of 500 training images"
   ]
  },
  {
   "cell_type": "code",
   "execution_count": null,
   "id": "ebb04f71",
   "metadata": {
    "id": "ebb04f71"
   },
   "outputs": [],
   "source": [
    "train_images = train_images.astype('float64')\n",
    "test_images = test_images.astype('float64')"
   ]
  },
  {
   "cell_type": "code",
   "execution_count": null,
   "id": "e45fc5f9",
   "metadata": {
    "id": "e45fc5f9"
   },
   "outputs": [],
   "source": [
    "train_labels = train_lbl.astype('int64')\n",
    "test_labels = test_labels.astype('int64')"
   ]
  },
  {
   "cell_type": "code",
   "execution_count": null,
   "id": "b18f55f6",
   "metadata": {
    "colab": {
     "base_uri": "https://localhost:8080/"
    },
    "id": "b18f55f6",
    "outputId": "fce8d147-5ef8-48b0-b0d2-7ffb57ee7fb4"
   },
   "outputs": [],
   "source": [
    "print('Min: {}, Max: {}'.format(train_images.min(), train_images.max()))\n",
    "\n",
    "train_images /= 255.0\n",
    "test_images /= 255.0"
   ]
  },
  {
   "cell_type": "code",
   "execution_count": null,
   "id": "eb1812ab",
   "metadata": {
    "id": "eb1812ab"
   },
   "outputs": [],
   "source": [
    "lb = LabelBinarizer()\n",
    "train_labels = lb.fit_transform(train_labels)\n",
    "test_labels = lb.fit_transform(test_labels)"
   ]
  },
  {
   "cell_type": "code",
   "execution_count": null,
   "id": "9109b73b",
   "metadata": {
    "id": "9109b73b"
   },
   "outputs": [],
   "source": [
    "# X_train, X_val, y_train, y_val = train_test_split(train_images, train_labels,\n",
    "#                                                   test_size=0.15, random_state=22)"
   ]
  },
  {
   "cell_type": "code",
   "execution_count": null,
   "id": "pBSe3Knmag_c",
   "metadata": {
    "colab": {
     "base_uri": "https://localhost:8080/"
    },
    "id": "pBSe3Knmag_c",
    "outputId": "9df620dd-a24c-4066-fe1e-c58e454eb759"
   },
   "outputs": [],
   "source": [
    "%cd /content/drive/MyDrive/Colab Notebooks/FYP/Saving weights"
   ]
  },
  {
   "cell_type": "code",
   "execution_count": null,
   "id": "964db24c",
   "metadata": {
    "id": "964db24c"
   },
   "outputs": [],
   "source": [
    "import tensorflow\n",
    "import numpy as np\n",
    "import seaborn as sns\n",
    "from tensorflow.keras.models import Sequential\n",
    "from tensorflow.keras.layers import Dense, Dropout, Conv2D, MaxPooling2D, Flatten, BatchNormalization\n",
    "from tensorflow.keras.optimizers import RMSprop\n",
    "from tensorflow.keras.callbacks import TensorBoard, ModelCheckpoint"
   ]
  },
  {
   "cell_type": "code",
   "execution_count": null,
   "id": "Im9aj1NwlzTr",
   "metadata": {
    "id": "Im9aj1NwlzTr"
   },
   "outputs": [],
   "source": [
    "model = Sequential()\n",
    "model.add(Conv2D(32, (3, 3), activation='relu', kernel_initializer='he_uniform', padding='same', input_shape=(32,32,3)))\n",
    "model.add(Conv2D(64, (3, 3),activation='relu', kernel_initializer='he_uniform', padding='same'))\n",
    "model.add(MaxPooling2D(pool_size=(2, 2)))\n",
    "model.add(Dropout(0.50))\n",
    "model.add(Conv2D(64, (3, 3),activation='relu', kernel_initializer='he_uniform', padding='same'))\n",
    "model.add(Dense(128,activation='relu', kernel_initializer='he_uniform'))\n",
    "model.add(MaxPooling2D(pool_size=(2, 2)))\n",
    "model.add(Dropout(0.50))\n",
    "model.add(Flatten())\n",
    "model.add(Dense(128,activation='relu', kernel_initializer='he_uniform'))\n",
    "model.add(Dense(10, activation='softmax'))"
   ]
  },
  {
   "cell_type": "code",
   "execution_count": null,
   "id": "39c74ccf",
   "metadata": {
    "id": "39c74ccf"
   },
   "outputs": [],
   "source": [
    "model.compile(loss='categorical_crossentropy',\n",
    "              optimizer='adam',\n",
    "              metrics=['accuracy'])\n",
    "\n",
    "cb = tensorflow.keras.callbacks.EarlyStopping(\n",
    "    monitor='val_accuracy',\n",
    "    min_delta=0,\n",
    "    patience=20,\n",
    "    verbose=0,\n",
    "    mode='auto',\n",
    "    baseline=None,\n",
    "    restore_best_weights=False\n",
    ")\n",
    "\n",
    "weights_save = ModelCheckpoint('TUNED2SVHN.hdf5', save_best_only=True, monitor='val_loss', mode='min')\n",
    "\n",
    "\n",
    "from keras.preprocessing.image import ImageDataGenerator\n",
    "\n",
    "datagen = ImageDataGenerator(\n",
    "        featurewise_center=False,\n",
    "        featurewise_std_normalization=False,\n",
    "        rotation_range=10,\n",
    "        width_shift_range=0.1,\n",
    "        height_shift_range=0.1,\n",
    "        zoom_range = 0.2,\n",
    "        horizontal_flip=False)\n",
    "\n",
    "datagen.fit(train_images)\n",
    "\n",
    "history = model.fit(datagen.flow(train_images, train_labels, batch_size=16),\n",
    "                    epochs=100,\n",
    "                    verbose=2,\n",
    "                    validation_data=(test_images, test_labels), callbacks=[cb, weights_save])"
   ]
  }
 ],
 "metadata": {
  "accelerator": "GPU",
  "colab": {
   "provenance": []
  },
  "gpuClass": "standard",
  "kernelspec": {
   "display_name": "Python 3 (ipykernel)",
   "language": "python",
   "name": "python3"
  },
  "language_info": {
   "codemirror_mode": {
    "name": "ipython",
    "version": 3
   },
   "file_extension": ".py",
   "mimetype": "text/x-python",
   "name": "python",
   "nbconvert_exporter": "python",
   "pygments_lexer": "ipython3",
   "version": "3.9.12"
  }
 },
 "nbformat": 4,
 "nbformat_minor": 5
}
